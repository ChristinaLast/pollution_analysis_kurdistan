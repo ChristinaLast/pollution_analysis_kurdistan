{
 "cells": [
  {
   "cell_type": "markdown",
   "metadata": {},
   "source": [
    "# Filtering flaring count data"
   ]
  },
  {
   "cell_type": "code",
   "execution_count": null,
   "metadata": {},
   "outputs": [],
   "source": [
    "import os\n",
    "import geopandas as gpd\n",
    "import pandas as pd\n",
    "import datetime\n",
    "from datetime import timedelta\n",
    "base_dir = os.path.dirname(os.getcwd())"
   ]
  },
  {
   "cell_type": "markdown",
   "metadata": {},
   "source": [
    "This notebook will take a `geojson` file and filter for a given number of flaring occurrences."
   ]
  },
  {
   "cell_type": "code",
   "execution_count": null,
   "metadata": {},
   "outputs": [],
   "source": [
    "kurdistan_flaring_gdf_2_freq = gpd.read_file(f\"{base_dir}/processed_data/kurdistan_data/Kurdistan_weekly_flaring_count.geojson\", driver=\"GeoJSON\")"
   ]
  },
  {
   "cell_type": "markdown",
   "metadata": {},
   "source": []
  },
  {
   "cell_type": "code",
   "execution_count": null,
   "metadata": {},
   "outputs": [],
   "source": [
    "kurdistan_flaring_gdf_2_freq"
   ]
  },
  {
   "cell_type": "code",
   "execution_count": null,
   "metadata": {},
   "outputs": [],
   "source": [
    "kurdistan_flaring_gdf_4_freq = kurdistan_flaring_gdf_2_freq[kurdistan_flaring_gdf_2_freq[\"Count\"]>=4]"
   ]
  },
  {
   "cell_type": "code",
   "execution_count": null,
   "metadata": {},
   "outputs": [],
   "source": [
    "kurdistan_flaring_gdf_4_freq.to_file(f\"{base_dir}/processed_data/kurdistan_data/Kurdistan_weekly_flaring_count_4.geojson\", driver=\"GeoJSON\")"
   ]
  },
  {
   "cell_type": "markdown",
   "metadata": {},
   "source": [
    "# Merging the aggregated locations to original locations based on timestamp and lat lon values"
   ]
  },
  {
   "cell_type": "markdown",
   "metadata": {},
   "source": [
    "### Merging to get higher resolution lat lon (to avoid the grid-like pattern in visuals)"
   ]
  },
  {
   "cell_type": "code",
   "execution_count": null,
   "metadata": {},
   "outputs": [],
   "source": [
    "# reading in raw lat lon values\n",
    "kurdistan_flare_raw_locations = pd.read_csv(f\"{base_dir}/processed_data/kurdistan_data/flaring_group_6dp.csv\")"
   ]
  },
  {
   "cell_type": "code",
   "execution_count": null,
   "metadata": {},
   "outputs": [],
   "source": [
    "# merge on date first\n",
    "kurdistan_flaring_gdf_4_freq['Flaring_date'] = kurdistan_flaring_gdf_4_freq['Flaring_timestamp'].apply(\n",
    "    lambda x: datetime.datetime.fromtimestamp(int(x)).strftime('%Y-%m-%d'))\n"
   ]
  },
  {
   "cell_type": "code",
   "execution_count": null,
   "metadata": {},
   "outputs": [],
   "source": [
    "kurdistan_flaring_gdf_4_freq"
   ]
  },
  {
   "cell_type": "code",
   "execution_count": null,
   "metadata": {},
   "outputs": [],
   "source": [
    "kurdistan_flaring_gdf_4_freq[\"week_beginning\"] = kurdistan_flaring_gdf_4_freq.apply(\n",
    "            lambda row: row.Flaring_date - timedelta(days=row.Flaring_date.weekday()),\n",
    "            axis=1,\n",
    "        )\n",
    "kurdistan_flaring_gdf_4_freq"
   ]
  },
  {
   "cell_type": "markdown",
   "metadata": {},
   "source": [
    "## Raw lcoations"
   ]
  },
  {
   "cell_type": "code",
   "execution_count": null,
   "metadata": {},
   "outputs": [],
   "source": [
    "kurdistan_flare_raw_locations = pd.read_csv(f\"{base_dir}/processed_data/kurdistan_data/flaring_group_6dp.csv\")"
   ]
  },
  {
   "cell_type": "code",
   "execution_count": null,
   "metadata": {},
   "outputs": [],
   "source": [
    "kurdistan_flare_raw_locations['Date'] = kurdistan_flare_raw_locations['Date_LTZ'].apply(\n",
    "    lambda x: datetime.datetime.strptime(x, '%Y-%m-%d %H:%M:%S.%f').date())"
   ]
  },
  {
   "cell_type": "code",
   "execution_count": null,
   "metadata": {},
   "outputs": [],
   "source": [
    "kurdistan_flare_raw_locations[\"week_beginning\"] = kurdistan_flare_raw_locations.apply(\n",
    "            lambda row: row.Date - timedelta(days=row.Date.weekday()),\n",
    "            axis=1,\n",
    "        )\n",
    "kurdistan_flare_raw_locations"
   ]
  },
  {
   "cell_type": "markdown",
   "metadata": {},
   "source": [
    "### Creating geodataframe from more accurate location points"
   ]
  },
  {
   "cell_type": "code",
   "execution_count": null,
   "metadata": {},
   "outputs": [],
   "source": [
    "kurdistan_flare_raw_locations_gdf = gpd.GeoDataFrame(\n",
    "    kurdistan_flare_raw_locations, geometry=gpd.points_from_xy(kurdistan_flare_raw_locations.Lon, kurdistan_flare_raw_locations.Lat))"
   ]
  },
  {
   "cell_type": "code",
   "execution_count": null,
   "metadata": {},
   "outputs": [],
   "source": [
    "kurdistan_flare_raw_locations_gdf = kurdistan_flare_raw_locations_gdf.set_crs(4326)"
   ]
  },
  {
   "cell_type": "code",
   "execution_count": null,
   "metadata": {},
   "outputs": [],
   "source": [
    "kurdistan_flare_raw_locations_gdf[\"Flaring_time_str\"] = kurdistan_flare_raw_locations_gdf['Date'].apply(lambda x: \"-\".join(str(x).split('-',2)[:2]))\n"
   ]
  },
  {
   "cell_type": "code",
   "execution_count": null,
   "metadata": {},
   "outputs": [],
   "source": [
    "kurdistan_flare_raw_locations_gdf[\"Lon_2dp\"] = kurdistan_flare_raw_locations_gdf[\"Lon\"].round(2)\n",
    "kurdistan_flare_raw_locations_gdf[\"Lat_2dp\"] = kurdistan_flare_raw_locations_gdf[\"Lat\"].round(2)\n"
   ]
  },
  {
   "cell_type": "code",
   "execution_count": null,
   "metadata": {},
   "outputs": [],
   "source": [
    "kurdistan_flare_raw_locations_gdf"
   ]
  },
  {
   "cell_type": "code",
   "execution_count": null,
   "metadata": {},
   "outputs": [],
   "source": [
    "kurdistan_flare_raw_locations_gdf[\"week_beginning\"] = pd.to_datetime(kurdistan_flare_raw_locations_gdf[\"week_beginning\"])"
   ]
  },
  {
   "cell_type": "code",
   "execution_count": null,
   "metadata": {},
   "outputs": [],
   "source": [
    "kurdistan_flare_raw_locations_gdf"
   ]
  },
  {
   "cell_type": "markdown",
   "metadata": {},
   "source": [
    "### Merging the two dataframes on the week beginning"
   ]
  },
  {
   "cell_type": "code",
   "execution_count": null,
   "metadata": {},
   "outputs": [],
   "source": [
    "new_df = pd.merge(kurdistan_flaring_gdf_4_freq, kurdistan_flare_raw_locations_gdf,  \n",
    "    how='inner', \n",
    "    left_on=[\"Lon\", \"Lat\",\"week_beginning\"],\n",
    "    right_on=[\"Lon_2dp\",\"Lat_2dp\",\"week_beginning\"], \n",
    ")"
   ]
  },
  {
   "cell_type": "code",
   "execution_count": null,
   "metadata": {},
   "outputs": [],
   "source": [
    "new_gdf = new_df.set_geometry(\"geometry_y\")"
   ]
  },
  {
   "cell_type": "code",
   "execution_count": null,
   "metadata": {},
   "outputs": [],
   "source": [
    "new_gdf[[\"Lat_x\",\"Lon_x\",\"Flaring_time_str_x\",\"Count\", \"Flaring_date\",\"Date_LTZ\",\"geometry_y\",\"Lon_2dp\",\"Lat_2dp\"]].to_file(f\"{base_dir}/processed_data/kurdistan_data/Kurdistan_weekly_flaring_count_joined_week_beginning.geojson\")"
   ]
  },
  {
   "cell_type": "code",
   "execution_count": null,
   "metadata": {},
   "outputs": [],
   "source": []
  }
 ],
 "metadata": {
  "kernelspec": {
   "display_name": "Python 3.8.0 ('pollution-analysis-KFg78m3I-py3.8')",
   "language": "python",
   "name": "python3"
  },
  "language_info": {
   "codemirror_mode": {
    "name": "ipython",
    "version": 3
   },
   "file_extension": ".py",
   "mimetype": "text/x-python",
   "name": "python",
   "nbconvert_exporter": "python",
   "pygments_lexer": "ipython3",
   "version": "3.8.0"
  },
  "orig_nbformat": 4,
  "vscode": {
   "interpreter": {
    "hash": "845623cdbed99a10825f9c2e499fdd1948c81afcb666c26419ebc8483644992d"
   }
  }
 },
 "nbformat": 4,
 "nbformat_minor": 2
}
